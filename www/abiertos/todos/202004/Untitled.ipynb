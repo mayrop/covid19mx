{
 "cells": [
  {
   "cell_type": "code",
   "execution_count": 394,
   "metadata": {},
   "outputs": [],
   "source": [
    "import pandas as pd\n",
    "import numpy as np\n",
    "import re\n",
    "from datetime import datetime, timedelta\n",
    "\n"
   ]
  },
  {
   "cell_type": "code",
   "execution_count": 396,
   "metadata": {
    "scrolled": true
   },
   "outputs": [
    {
     "name": "stdout",
     "output_type": "stream",
     "text": [
      "evaluating for 2020-04-22 00:00:00\n",
      "one week ago! 2020-04-15 00:00:00\n",
      "two week ago! 2020-04-08 00:00:00\n"
     ]
    }
   ],
   "source": [
    "file = '20200422.csv'\n",
    "df = pd.read_csv(file, low_memory=False) \n",
    "\n",
    "target_date_str = re.sub(r'(\\d+)\\.csv', '\\\\1', file)\n",
    "target_date = datetime.strptime(target_date_str, '%Y%m%d')\n",
    "\n",
    "one_week_ago = target_date - timedelta(days=7)\n",
    "two_weeks_ago = target_date - timedelta(days=14)\n",
    "alive_date = '9999-99-99'\n",
    "\n",
    "print('evaluating for {}'.format(target_date))\n",
    "print('one week ago! {}'.format(one_week_ago))\n",
    "print('two week ago! {}'.format(two_weeks_ago))\n",
    "\n",
    "df = df.astype({'RESULTADO': 'int32'})\n",
    "\n",
    "df['FECHA_SINTOMAS'] = pd.to_datetime(df['FECHA_SINTOMAS'], format=\"%Y-%m-%d\")\n",
    "\n",
    "df['RESULTADO_FACTOR'] = 'Desconocido'\n",
    "df.loc[df['RESULTADO'] == 1, 'RESULTADO_FACTOR'] = 'Positivos'\n",
    "df.loc[df['RESULTADO'] == 2, 'RESULTADO_FACTOR'] = 'Negativos'\n",
    "df.loc[df['RESULTADO'] == 3, 'RESULTADO_FACTOR'] = 'Sospechosos'\n",
    "\n",
    "df['IS_PATIENT'] = 1\n",
    "df['ALL_TIME'] = True\n",
    "df['LAST_7_DAYS'] = df.FECHA_SINTOMAS > one_week_ago\n",
    "df['LAST_14_DAYS'] = df.FECHA_SINTOMAS > two_weeks_ago\n",
    "df['HAS_DIED'] = df.FECHA_DEF != alive_date\n",
    "\n",
    "\n",
    "states = pd.read_csv('../../../otros/estados.csv')\n",
    "states = states.rename({'Clave': 'ENTIDAD_RES', 'ISO_3':'ENTIDAD_RES_FACTOR'}, axis=1)[['ENTIDAD_RES', 'ENTIDAD_RES_FACTOR']]\n",
    "df['ENTIDAD_RES'] = df['ENTIDAD_UM']\n",
    "df = df.merge(states, on='ENTIDAD_RES', how='left')\n"
   ]
  },
  {
   "cell_type": "code",
   "execution_count": 397,
   "metadata": {},
   "outputs": [],
   "source": [
    "def modify_pivot_df(df):\n",
    "    df.columns = df.columns.get_level_values(2)\n",
    "    df = df.reset_index()\n",
    "    df.index.name = None\n",
    "\n",
    "    df['Sospechosos'].fillna(0, inplace=True)\n",
    "    df['Negativos'].fillna(0, inplace=True)\n",
    "    df['Positivos'].fillna(0, inplace=True)    \n",
    "    df = df.astype({\n",
    "        'Sospechosos': 'int32', \n",
    "        'Negativos': 'int32', \n",
    "        'Positivos': 'int32'\n",
    "    })\n",
    "\n",
    "    df = df.rename(\n",
    "        columns={\n",
    "            'ENTIDAD_RES_FACTOR': 'Estado'\n",
    "        })\n",
    "    \n",
    "    return df\n",
    "\n",
    "\n",
    "def get_main_series(df, value='ALL_TIME', prefix='', suffix=''):\n",
    "    my_df = pd.pivot_table(\n",
    "        df, \n",
    "        values=[value],  \n",
    "        index=['ENTIDAD_RES_FACTOR',  'RESULTADO_FACTOR'],\n",
    "        columns=['IS_PATIENT'], aggfunc=np.sum\n",
    "    ).unstack()\n",
    "\n",
    "    my_df = modify_pivot_df(my_df)\n",
    "    \n",
    "    my_df = my_df.rename(\n",
    "        columns={\n",
    "            'Positivos': '{}Positivos{}'.format(prefix, suffix),\n",
    "            'Sospechosos': '{}Sospechosos{}'.format(prefix, suffix),\n",
    "            'Negativos': '{}Negativos{}'.format(prefix, suffix)\n",
    "        })\n",
    "\n",
    "    return my_df[['Estado', \n",
    "                  '{}Positivos{}'.format(prefix, suffix), \n",
    "                  '{}Sospechosos{}'.format(prefix, suffix), \n",
    "                  '{}Negativos{}'.format(prefix, suffix)]]\n",
    "\n",
    "\n",
    "main = get_main_series(df)\n",
    "main['Fecha'] = target_date.strftime('%Y-%m-%d')\n",
    "main = main[['Fecha', 'Estado', 'Positivos', 'Sospechosos', 'Negativos']]\n",
    "\n",
    "deaths = get_main_series(df[df['HAS_DIED'] == True], prefix='Defunciones_')\n",
    "symptoms_last_14_days = get_main_series(df, value='LAST_14_DAYS', suffix='_Sintomas_14_Dias')\n",
    "symptoms_last_7_days = get_main_series(df, value='LAST_7_DAYS', suffix='_Sintomas_7_Dias')\n",
    "\n",
    "summary_df = main.merge(deaths, on='Estado', how='left')\n",
    "summary_df = summary_df.merge(symptoms_last_14_days, on='Estado', how='left')\n",
    "summary_df = summary_df.merge(symptoms_last_7_days, on='Estado', how='left')\n",
    "summary_df\n",
    "\n",
    "summary_df.to_csv('federal_{}'.format(file), index=False)  "
   ]
  },
  {
   "cell_type": "code",
   "execution_count": null,
   "metadata": {},
   "outputs": [],
   "source": []
  },
  {
   "cell_type": "code",
   "execution_count": null,
   "metadata": {},
   "outputs": [],
   "source": []
  },
  {
   "cell_type": "code",
   "execution_count": null,
   "metadata": {},
   "outputs": [],
   "source": []
  },
  {
   "cell_type": "code",
   "execution_count": null,
   "metadata": {},
   "outputs": [],
   "source": []
  }
 ],
 "metadata": {
  "kernelspec": {
   "display_name": "Python 3",
   "language": "python",
   "name": "python3"
  },
  "language_info": {
   "codemirror_mode": {
    "name": "ipython",
    "version": 3
   },
   "file_extension": ".py",
   "mimetype": "text/x-python",
   "name": "python",
   "nbconvert_exporter": "python",
   "pygments_lexer": "ipython3",
   "version": "3.7.6"
  }
 },
 "nbformat": 4,
 "nbformat_minor": 4
}
